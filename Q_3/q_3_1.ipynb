{
  "nbformat": 4,
  "nbformat_minor": 0,
  "metadata": {
    "colab": {
      "provenance": [],
      "collapsed_sections": []
    },
    "kernelspec": {
      "name": "python3",
      "display_name": "Python 3"
    },
    "language_info": {
      "name": "python"
    }
  },
  "cells": [
    {
      "cell_type": "markdown",
      "source": [
        "**Population distribution of religious communities in states of India:**"
      ],
      "metadata": {
        "id": "ZCIz6eciCF_n"
      }
    },
    {
      "cell_type": "code",
      "source": [
        "from google.colab import files\n",
        " \n",
        " \n",
        "uploaded = files.upload()"
      ],
      "metadata": {
        "id": "837qeE2CBMML"
      },
      "execution_count": null,
      "outputs": []
    },
    {
      "cell_type": "code",
      "execution_count": 20,
      "metadata": {
        "colab": {
          "base_uri": "https://localhost:8080/"
        },
        "id": "qxX1hAT_-V_h",
        "outputId": "8ff6a5b8-cb49-43fb-f135-684302c1353b"
      },
      "outputs": [
        {
          "output_type": "stream",
          "name": "stdout",
          "text": [
            "             Category of States                     States  Hindus  Muslims  \\\n",
            "0   Non Special Category States             Andhra Pradesh    88.5      7.7   \n",
            "1   Non Special Category States                      Assam    66.9     30.4   \n",
            "2   Non Special Category States                      Bihar    84.7     14.9   \n",
            "3   Non Special Category States               Chhattisgarh    96.7      0.9   \n",
            "4   Non Special Category States                      Delhi    82.9     12.1   \n",
            "5   Non Special Category States                        Goa    75.1      9.8   \n",
            "6   Non Special Category States                    Gujarat    90.7      7.9   \n",
            "7   Non Special Category States                    Haryana    86.1      7.7   \n",
            "8   Non Special Category States                  Jharkhand    81.3     11.1   \n",
            "9   Non Special Category States                  Karnataka    85.9     11.6   \n",
            "10  Non Special Category States                     Kerala    57.3     24.1   \n",
            "11  Non Special Category States             Madhya Pradesh    91.8      7.2   \n",
            "12  Non Special Category States                Maharashtra    82.9     11.2   \n",
            "13  Non Special Category States                     Orissa    96.5      2.2   \n",
            "14  Non Special Category States                     Punjab    37.5      1.2   \n",
            "15  Non Special Category States                  Rajasthan    90.5      7.9   \n",
            "16  Non Special Category States                 Tamil Nadu    89.5      5.0   \n",
            "17  Non Special Category States              Uttar Pradesh    80.7     18.8   \n",
            "18  Non Special Category States                West Bengal    68.4     30.6   \n",
            "19      Special Category States          Arunachal Pradesh    21.8      1.7   \n",
            "20      Special Category States           Himachal Pradesh    95.6      2.2   \n",
            "21      Special Category States            Jammu & Kashmir    42.8     55.7   \n",
            "22      Special Category States                    Manipur    51.0      8.0   \n",
            "23      Special Category States                  Meghalaya     6.6      5.8   \n",
            "24      Special Category States                    Mizoram     0.6      0.4   \n",
            "25      Special Category States                   Nagaland     2.6      0.6   \n",
            "26      Special Category States                     Sikkim    65.4      1.1   \n",
            "27      Special Category States                    Tripura    87.6      9.2   \n",
            "28      Special Category States                Uttarakhand    79.6     18.8   \n",
            "29            Union Territories  Andaman & Nicobar Islands    69.7      8.8   \n",
            "30            Union Territories                 Chandigarh    81.7      4.3   \n",
            "31            Union Territories       Dadra & Nagar Haveli    97.7      1.0   \n",
            "32            Union Territories                Daman & Diu    89.8      7.5   \n",
            "33            Union Territories        Lakshadweep Islands     3.3     95.3   \n",
            "34            Union Territories                 Puducherry    83.2     11.3   \n",
            "\n",
            "    Christians  Sikhs  \n",
            "0          1.6    NaN  \n",
            "1          2.3    0.2  \n",
            "2          0.1    0.1  \n",
            "3          2.0    0.2  \n",
            "4          0.6    3.5  \n",
            "5         14.2    NaN  \n",
            "6          0.6    NaN  \n",
            "7          0.1    5.9  \n",
            "8          3.1    0.1  \n",
            "9          1.8    NaN  \n",
            "10        18.6    NaN  \n",
            "11         0.2    0.1  \n",
            "12         1.1    0.2  \n",
            "13         1.3    NaN  \n",
            "14         1.4   59.7  \n",
            "15         0.1    1.0  \n",
            "16         5.4    NaN  \n",
            "17         0.1    0.3  \n",
            "18         0.7    NaN  \n",
            "19        25.9    0.1  \n",
            "20         0.1    0.4  \n",
            "21         0.2    1.4  \n",
            "22        37.6    NaN  \n",
            "23        79.6    NaN  \n",
            "24        88.2    NaN  \n",
            "25        96.6    NaN  \n",
            "26         3.5    NaN  \n",
            "27         0.8    NaN  \n",
            "28         0.6    0.7  \n",
            "29        21.3    0.2  \n",
            "30         0.4   13.0  \n",
            "31         1.2    NaN  \n",
            "32         2.4    NaN  \n",
            "33         1.4    NaN  \n",
            "34         5.5    NaN  \n"
          ]
        }
      ],
      "source": [
        "import pandas as pd\n",
        "import io\n",
        "df = pd.read_csv('Table_2A.3.csv')\n",
        "print(df)\n"
      ]
    },
    {
      "cell_type": "markdown",
      "source": [
        "**Mean  population distribution of Christians in a state in India:**"
      ],
      "metadata": {
        "id": "t6CJXch2Bi9A"
      }
    },
    {
      "cell_type": "code",
      "source": [
        "import pandas as pd\n",
        "import io\n",
        "import statistics\n",
        "df = pd.read_csv('Table_2A.3.csv')\n",
        "x=df['Christians']\n",
        "print(statistics.mean(x))"
      ],
      "metadata": {
        "colab": {
          "base_uri": "https://localhost:8080/"
        },
        "id": "-BIzvO1dCXnl",
        "outputId": "57fdddf3-0493-4b7c-e93b-b51ce921a3be"
      },
      "execution_count": 21,
      "outputs": [
        {
          "output_type": "stream",
          "name": "stdout",
          "text": [
            "12.017142857142858\n"
          ]
        }
      ]
    },
    {
      "cell_type": "markdown",
      "source": [
        "**Median percentage of Hindus:**\n",
        "\n",
        "\n",
        "\n"
      ],
      "metadata": {
        "id": "ZsbNH4fDEP6X"
      }
    },
    {
      "cell_type": "code",
      "source": [
        "import pandas as pd\n",
        "import io\n",
        "import statistics\n",
        "df = pd.read_csv('Table_2A.3.csv')\n",
        "x=df['Hindus']\n",
        "print('Min % of Hindus:',min(x))\n",
        "print('Median % of Hindus:',statistics.median(x))\n",
        "print('Max % of Hindus:',max(x))"
      ],
      "metadata": {
        "colab": {
          "base_uri": "https://localhost:8080/"
        },
        "id": "VWzQL1KWEvv7",
        "outputId": "04bc8e8e-e69c-400e-d6a5-3e5b58d8df95"
      },
      "execution_count": null,
      "outputs": [
        {
          "output_type": "stream",
          "name": "stdout",
          "text": [
            "Min % of Hindus: 0.6\n",
            "Median % of Hindus: 81.95\n",
            "Max % of Hindus: 97.7\n"
          ]
        }
      ]
    },
    {
      "cell_type": "markdown",
      "source": [
        "**Mode:\n",
        "Highest recurring % of Hindus in India:**"
      ],
      "metadata": {
        "id": "6XBVaXrwGnN4"
      }
    },
    {
      "cell_type": "code",
      "source": [
        "import pandas as pd\n",
        "import io\n",
        "import statistics\n",
        "df = pd.read_csv('Table_2A.3.csv')\n",
        "x=df['Hindus']\n",
        "print(statistics.mode(x))"
      ],
      "metadata": {
        "colab": {
          "base_uri": "https://localhost:8080/"
        },
        "id": "C_b8UOqqGzME",
        "outputId": "d163647d-caf7-4801-9e96-56ff06ea0901"
      },
      "execution_count": 19,
      "outputs": [
        {
          "output_type": "stream",
          "name": "stdout",
          "text": [
            "82.9\n"
          ]
        }
      ]
    }
  ]
}