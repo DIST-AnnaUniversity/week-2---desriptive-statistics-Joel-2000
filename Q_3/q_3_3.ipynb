{
  "nbformat": 4,
  "nbformat_minor": 0,
  "metadata": {
    "colab": {
      "provenance": []
    },
    "kernelspec": {
      "name": "python3",
      "display_name": "Python 3"
    },
    "language_info": {
      "name": "python"
    }
  },
  "cells": [
    {
      "cell_type": "code",
      "execution_count": 2,
      "metadata": {
        "colab": {
          "base_uri": "https://localhost:8080/",
          "height": 304
        },
        "id": "OKcMiORGMqYa",
        "outputId": "fcdbec4f-05fd-4ef8-f0e9-0dc486ce9209"
      },
      "outputs": [
        {
          "output_type": "display_data",
          "data": {
            "text/plain": [
              "<Figure size 432x288 with 1 Axes>"
            ],
            "image/png": "[encoded data removed]"
          },
          "metadata": {
            "needs_background": "light"
          }
        },
        {
          "output_type": "stream",
          "name": "stdout",
          "text": [
            "95.3\n",
            "0.4\n"
          ]
        }
      ],
      "source": [
        "import matplotlib.pyplot as plt\n",
        "import pandas as pd\n",
        "import io\n",
        "\n",
        "df=pd.read_csv('Table_2A.3.csv')\n",
        "x=df['Muslims']\n",
        "plt.boxplot(x)\n",
        "plt.show()\n",
        "print(max(x))\n",
        "print(min(x))\n"
      ]
    },
    {
      "cell_type": "markdown",
      "source": [
        "3 outliers are observed.\n",
        "Lakshadweep Islands, Jammu & Kashmir, Assam have high percentages of Muslims in India."
      ],
      "metadata": {
        "id": "xasAfpuMNAn_"
      }
    }
  ]
}