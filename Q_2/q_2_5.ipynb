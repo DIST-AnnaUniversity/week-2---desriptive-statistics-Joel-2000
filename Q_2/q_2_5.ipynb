{
  "nbformat": 4,
  "nbformat_minor": 0,
  "metadata": {
    "colab": {
      "provenance": []
    },
    "kernelspec": {
      "name": "python3",
      "display_name": "Python 3"
    },
    "language_info": {
      "name": "python"
    }
  },
  "cells": [
    {
      "cell_type": "markdown",
      "source": [
        "Use the following information to answer the next three exercises: We are interested in the number of years students in a particular elementary statistics class have lived in California. The information in the following table is from the entire section. Number of years Frequency Number of years Frequency Total = 20 7 1 22 1 14 3 23 1 15 1 26 1 18 1 40 2 19 4 42 2 20 3\n",
        "What is the mode? a.19 b.19.5 c.14 and 20 d.22.65"
      ],
      "metadata": {
        "id": "n7EH0hNC6hRy"
      }
    },
    {
      "cell_type": "code",
      "execution_count": 1,
      "metadata": {
        "colab": {
          "base_uri": "https://localhost:8080/"
        },
        "id": "ZCFnM__q6gtU",
        "outputId": "a30c253b-28b1-494d-d4a4-effd4f56d1c1"
      },
      "outputs": [
        {
          "output_type": "execute_result",
          "data": {
            "text/plain": [
              "19"
            ]
          },
          "metadata": {},
          "execution_count": 1
        }
      ],
      "source": [
        "import statistics\n",
        "data=[7,14,14,14,15,18,19,19,19,19,20,20,20,22,23,26,40,40,42,42]\n",
        "statistics.mode(data)"
      ]
    }
  ]
}