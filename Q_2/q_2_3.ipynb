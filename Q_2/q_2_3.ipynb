{
  "nbformat": 4,
  "nbformat_minor": 0,
  "metadata": {
    "colab": {
      "provenance": []
    },
    "kernelspec": {
      "name": "python3",
      "display_name": "Python 3"
    },
    "language_info": {
      "name": "python"
    }
  },
  "cells": [
    {
      "cell_type": "markdown",
      "source": [
        "Twenty-five randomly selected students were asked the number of movies they watched the previous week. The results are as follows:\n",
        "of movies Frequency\n",
        "0 5 1 9 2 6 3 4 4 1 Construct a box plot of the data."
      ],
      "metadata": {
        "id": "3Rm5NmfK5791"
      }
    },
    {
      "cell_type": "code",
      "execution_count": 1,
      "metadata": {
        "colab": {
          "base_uri": "https://localhost:8080/",
          "height": 265
        },
        "id": "6Yl204EP53lI",
        "outputId": "da52d73a-8640-4135-ea7a-c1bcec3f7ee7"
      },
      "outputs": [
        {
          "output_type": "display_data",
          "data": {
            "text/plain": [
              "<Figure size 432x288 with 1 Axes>"
            ],
            "image/png": "[encoded data removed]"
          },
          "metadata": {
            "needs_background": "light"
          }
        }
      ],
      "source": [
        "import matplotlib.pyplot as plt\n",
        "data=[0,0,0,0,0,1,1,1,1,1,1,1,1,1,2,2,2,2,2,2,3,3,3,3,4]\n",
        "plt.boxplot(data)\n",
        "plt.show()"
      ]
    }
  ]
}