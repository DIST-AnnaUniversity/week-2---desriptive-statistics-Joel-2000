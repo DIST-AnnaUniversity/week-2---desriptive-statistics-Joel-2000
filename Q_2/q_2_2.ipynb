{
  "nbformat": 4,
  "nbformat_minor": 0,
  "metadata": {
    "colab": {
      "provenance": []
    },
    "kernelspec": {
      "name": "python3",
      "display_name": "Python 3"
    },
    "language_info": {
      "name": "python"
    }
  },
  "cells": [
    {
      "cell_type": "markdown",
      "source": [
        "Student grades on a chemistry exam were: 77 , 78 , 76 , 81 , 86 , 51 , 79 , 82 , 84 , 99 Construct a stem-and-leaf plot of the data. Are there any potential outliers? If so, which scores are they? Why do you consider them outliers?\n"
      ],
      "metadata": {
        "id": "xgA4b01j5XV2"
      }
    },
    {
      "cell_type": "code",
      "execution_count": 1,
      "metadata": {
        "colab": {
          "base_uri": "https://localhost:8080/",
          "height": 282
        },
        "id": "vCBcP21F5Wgz",
        "outputId": "a6dc7e5f-ce34-455a-a443-36b198e509a8"
      },
      "outputs": [
        {
          "output_type": "execute_result",
          "data": {
            "text/plain": [
              "<StemContainer object of 3 artists>"
            ]
          },
          "metadata": {},
          "execution_count": 1
        },
        {
          "output_type": "display_data",
          "data": {
            "text/plain": [
              "<Figure size 432x288 with 1 Axes>"
            ],
            "image/png": "[encoded data removed]"
          },
          "metadata": {
            "needs_background": "light"
          }
        }
      ],
      "source": [
        "import matplotlib.pyplot as plt\n",
        "\n",
        "data=[77,78,76,81,86,51,79,82,84,99]\n",
        "stems=[5,7,7,7,7,8,8,8,8,9]\n",
        "plt.stem(stems,data,use_line_collection=True)"
      ]
    },
    {
      "cell_type": "markdown",
      "source": [
        "From the plot it is observed that 51 is outlier."
      ],
      "metadata": {
        "id": "R511yzqH5uMu"
      }
    }
  ]
}