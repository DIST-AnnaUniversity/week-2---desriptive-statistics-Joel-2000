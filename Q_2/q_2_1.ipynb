{
  "nbformat": 4,
  "nbformat_minor": 0,
  "metadata": {
    "colab": {
      "provenance": []
    },
    "kernelspec": {
      "name": "python3",
      "display_name": "Python 3"
    },
    "language_info": {
      "name": "python"
    }
  },
  "cells": [
    {
      "cell_type": "markdown",
      "source": [
        "q1. For each of the following data sets, create a stem plot and identify any outliers.\n",
        "\n",
        "The miles per gallon rating for 30 cars are shown below (lowest to highest)"
      ],
      "metadata": {
        "id": "HKgrlo004usJ"
      }
    },
    {
      "cell_type": "code",
      "source": [
        "import matplotlib.pyplot as plt\n",
        "\n",
        " \n",
        "data=[19,19,19,20,21,21,25,25,25,26,26,28,29,31,31,32,32,33,34,35,36,37,37,38,38,38,41,43,43]\n",
        "stems=[1,1,1,2,2,2,2,2,2,2,2,2,2,3,3,3,3,3,3,3,3,3,3,3,3,3,4,4,4]\n",
        "plt.stem(stems,data,use_line_collection=True)"
      ],
      "metadata": {
        "colab": {
          "base_uri": "https://localhost:8080/",
          "height": 282
        },
        "id": "mFDLr0lc4xVK",
        "outputId": "b52e6bea-f4a0-470a-e843-d6e2b9ca1ca9"
      },
      "execution_count": 1,
      "outputs": [
        {
          "output_type": "execute_result",
          "data": {
            "text/plain": [
              "<StemContainer object of 3 artists>"
            ]
          },
          "metadata": {},
          "execution_count": 1
        },
        {
          "output_type": "display_data",
          "data": {
            "text/plain": [
              "<Figure size 432x288 with 1 Axes>"
            ],
            "image/png": "[encoded data removed]"
          },
          "metadata": {
            "needs_background": "light"
          }
        }
      ]
    },
    {
      "cell_type": "code",
      "source": [
        "There is no outlier found."
      ],
      "metadata": {
        "id": "MNo2gDca5DJo"
      },
      "execution_count": null,
      "outputs": []
    }
  ]
}