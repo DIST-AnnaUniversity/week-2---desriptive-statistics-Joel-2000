{
  "nbformat": 4,
  "nbformat_minor": 0,
  "metadata": {
    "colab": {
      "provenance": []
    },
    "kernelspec": {
      "name": "python3",
      "display_name": "Python 3"
    },
    "language_info": {
      "name": "python"
    }
  },
  "cells": [
    {
      "cell_type": "markdown",
      "source": [
        "Use the following information to answer the next three exercises: We are interested in the number of years students in a particular elementary statistics class have lived in California. The information in the following table is from the entire section. Number of years Frequency Number of years Frequency Total = 20 7 1 22 1 14 3 23 1 15 1 26 1 18 1 40 2 19 4 42 2 20 3\n",
        "\n",
        "What is the I Q R ?"
      ],
      "metadata": {
        "id": "WakVh8iJ6R0d"
      }
    },
    {
      "cell_type": "code",
      "execution_count": 1,
      "metadata": {
        "colab": {
          "base_uri": "https://localhost:8080/"
        },
        "id": "SShTeyym6Oj5",
        "outputId": "700bc3a8-27d5-4517-fdff-7d81b452a678"
      },
      "outputs": [
        {
          "output_type": "stream",
          "name": "stdout",
          "text": [
            "8.0\n"
          ]
        }
      ],
      "source": [
        "#no of years=[7,14,15,18,19,20,22,23,26,40,42]\n",
        "#frequency=[1,3,1,1,4,3,1,1,1,2,2]\n",
        "import numpy as np\n",
        "\n",
        "data=[7,14,14,14,15,18,19,19,19,19,20,20,20,22,23,26,40,40,42,42]\n",
        "Q1=np.median(data[:10])\n",
        "Q3=np.median(data[10:])\n",
        "IQR=(Q3-Q1)\n",
        "print(IQR)"
      ]
    }
  ]
}