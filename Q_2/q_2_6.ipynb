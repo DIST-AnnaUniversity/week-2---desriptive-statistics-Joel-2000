{
  "nbformat": 4,
  "nbformat_minor": 0,
  "metadata": {
    "colab": {
      "provenance": []
    },
    "kernelspec": {
      "name": "python3",
      "display_name": "Python 3"
    },
    "language_info": {
      "name": "python"
    }
  },
  "cells": [
    {
      "cell_type": "markdown",
      "source": [
        "Use the following information to answer the next three exercises: We are interested in the number of years students in a particular elementary statistics class have lived in California. The information in the following table is from the entire section. Number of years Frequency Number of years Frequency Total = 20 7 1 22 1 14 3 23 1 15 1 26 1 18 1 40 2 19 4 42 2 20 3 \n",
        "\n",
        "\n",
        "Is this a sample or the entire population? a. sample b. entire population c. neither\n"
      ],
      "metadata": {
        "id": "0nKIJ-V364Ah"
      }
    },
    {
      "cell_type": "markdown",
      "source": [
        "This is a Sample data because it focuses on the statistics class of elementary students in a particular school. "
      ],
      "metadata": {
        "id": "UNwyEMqo7GLM"
      }
    },
    {
      "cell_type": "code",
      "execution_count": null,
      "metadata": {
        "id": "Kzut-clR63UA"
      },
      "outputs": [],
      "source": []
    }
  ]
}